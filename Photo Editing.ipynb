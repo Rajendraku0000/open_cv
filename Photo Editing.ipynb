{
 "cells": [
  {
   "cell_type": "code",
   "execution_count": 3,
   "id": "bd045b93",
   "metadata": {},
   "outputs": [],
   "source": [
    "import pyautogui as p\n",
    "import cv2 as c\n",
    "import numpy as np\n"
   ]
  },
  {
   "cell_type": "code",
   "execution_count": null,
   "id": "be87d73a",
   "metadata": {},
   "outputs": [],
   "source": [
    "img=c.imread(\"C:\\\\Users\\\\rajen\\\\OneDrive\\\\Desktop\\\\New folder\\\\a.jpeg\")\n",
    "img=c.resize(img,(600,700))\n",
    "\n",
    "# img=c.line(img,(0,0),(150,500),(245,7,31),8)\n",
    "\n",
    "# img=c.arrowedLine(img,(0,0),(150,500),(245,7,31),8)\n",
    "\n",
    "# img=c.rectangle(img,(100,100),(150,500),(245,7,31),8)\n",
    "# img=c.rectangle(img,(100,100),(150,500),(245,7,31),-1)\n",
    "\n",
    "\n",
    "# img=c.circle(img,(150,500),100,(245,7,31),8)\n",
    "\n",
    "# font=c.FONT_HERSHEY_COMPLEX\n",
    "# img=c.putText(img,\"cafe\",(20,500),font,4,(0,125,0),10,c.LINE_AA)\n",
    "\n",
    "img=c.ellipse(img,(400,600),(100,50),0,0,180,155,5)\n",
    "\n",
    "\n",
    "\n",
    "c.imshow(\"img\",img)\n",
    "\n",
    "c.waitKey(0)\n",
    "c.destroyAllWindows()"
   ]
  },
  {
   "cell_type": "code",
   "execution_count": null,
   "id": "9b71c6fc",
   "metadata": {},
   "outputs": [],
   "source": []
  }
 ],
 "metadata": {
  "kernelspec": {
   "display_name": "Python 3 (ipykernel)",
   "language": "python",
   "name": "python3"
  },
  "language_info": {
   "codemirror_mode": {
    "name": "ipython",
    "version": 3
   },
   "file_extension": ".py",
   "mimetype": "text/x-python",
   "name": "python",
   "nbconvert_exporter": "python",
   "pygments_lexer": "ipython3",
   "version": "3.10.9"
  }
 },
 "nbformat": 4,
 "nbformat_minor": 5
}
