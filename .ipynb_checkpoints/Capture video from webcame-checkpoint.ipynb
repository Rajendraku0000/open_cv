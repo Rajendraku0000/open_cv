{
 "cells": [
  {
   "cell_type": "code",
   "execution_count": 2,
   "id": "bf9d5681",
   "metadata": {},
   "outputs": [],
   "source": [
    "import numpy as np\n",
    "import cv2"
   ]
  },
  {
   "cell_type": "code",
   "execution_count": 4,
   "id": "c75501d9",
   "metadata": {},
   "outputs": [
    {
     "name": "stdout",
     "output_type": "stream",
     "text": [
      "< cv2.VideoCapture 000002BA3C68BED0>\n"
     ]
    }
   ],
   "source": [
    "cap=cv2.VideoCapture(0,cv2.CAP_DSHOW)\n",
    "print(cap)\n",
    "\n",
    "while cap.isOpened():\n",
    "    rat,frame=cap.read()\n",
    "    if rat==True:\n",
    "        frame=cv2.resize(frame,(400,300))\n",
    "        gray=cv2.cvtColor(frame,cv2.COLOR_BGR2GRAY)\n",
    "        cv2.imshow(\"frame\",frame)\n",
    "        cv2.imshow(\"gray\",gray)\n",
    "        \n",
    "        if cv2.waitKey(1) & 0xff == ord(\"q\"):\n",
    "            break\n",
    "            \n",
    "            \n",
    "cap.release()\n",
    "cv2.destroyAllWindows()"
   ]
  },
  {
   "cell_type": "code",
   "execution_count": 9,
   "id": "f5bdacd9",
   "metadata": {},
   "outputs": [],
   "source": [
    "cap=cv2.VideoCapture(0,cv2.CAP_DSHOW)\n",
    "\n",
    "forcc=cv2.VideoWriter_fourcc(*\"XVID\")\n",
    "output=cv2.VideoWriter(\"C:\\\\Users\\\\rajen\\\\OneDrive\\\\Desktop\\\\New folder\\\\output.avi\",forcc,20.0,(640,480))\n",
    "\n",
    "while cap.isOpened():\n",
    "    ret,frame=cap.read()\n",
    "    if rat==True:\n",
    "        gray=cv2.cvtColor(frame,cv2.COLOR_BGR2GRAY)\n",
    "        cv2.imshow(\"yes\",frame)\n",
    "        cv2.imshow(\"yes\",gray)\n",
    "        \n",
    "        output.write(frame)\n",
    "        \n",
    "        if cv2.waitKey(1) & 0xff == ord(\"q\"):\n",
    "            break\n",
    "            \n",
    "            \n",
    "cap.release()\n",
    "output.release()\n",
    "cv2.destroyAllWindows()"
   ]
  },
  {
   "cell_type": "code",
   "execution_count": null,
   "id": "3b9e004e",
   "metadata": {},
   "outputs": [],
   "source": []
  }
 ],
 "metadata": {
  "kernelspec": {
   "display_name": "Python 3 (ipykernel)",
   "language": "python",
   "name": "python3"
  },
  "language_info": {
   "codemirror_mode": {
    "name": "ipython",
    "version": 3
   },
   "file_extension": ".py",
   "mimetype": "text/x-python",
   "name": "python",
   "nbconvert_exporter": "python",
   "pygments_lexer": "ipython3",
   "version": "3.10.9"
  }
 },
 "nbformat": 4,
 "nbformat_minor": 5
}
