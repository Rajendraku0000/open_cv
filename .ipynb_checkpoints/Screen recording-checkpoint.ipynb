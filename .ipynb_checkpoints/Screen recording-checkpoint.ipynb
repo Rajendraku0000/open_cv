{
 "cells": [
  {
   "cell_type": "code",
   "execution_count": 1,
   "id": "9957ec66",
   "metadata": {},
   "outputs": [],
   "source": [
    "# !pip install pyautogui"
   ]
  },
  {
   "cell_type": "code",
   "execution_count": 2,
   "id": "d103f4b0",
   "metadata": {},
   "outputs": [],
   "source": [
    "import pyautogui as p\n",
    "import cv2 as c\n",
    "import numpy as np\n"
   ]
  },
  {
   "cell_type": "code",
   "execution_count": 4,
   "id": "7f55cd1e",
   "metadata": {},
   "outputs": [],
   "source": [
    "# rs=p.size()\n",
    "\n",
    "# fn=input(\"enter location \")\n",
    "\n",
    "# fps=60.0\n",
    "\n",
    "# fourcc=c.VideoWriter_fourcc(*\"XVID\")\n",
    "# output=c.VideoWriter(fn,fourcc,fps,rs)\n",
    "\n",
    "# c.namedWindow(\"liva_recording\",c.WINDOW_NORMAL)\n",
    "# c.resizeWindow(\"live_recording\",(600,400))\n",
    "\n",
    "# while True:\n",
    "#     img=p.screenshot()\n",
    "#     f=np.array(img)\n",
    "#     f=c.cvtColor(f,c.COLOR_BGR2GRAY)\n",
    "#     output.write(f)\n",
    "#     c.imshow(\"Live_rocording\",f)\n",
    "    \n",
    "#     if c.waitKey(1) == ord(\"q\"):\n",
    "#         break\n",
    "        \n",
    "# output.release()\n",
    "# c.destroyAllWindows()\n",
    "\n",
    "# #C:\\\\Users\\\\rajen\\\\OneDrive\\\\Desktop\\\\New folder\\\\a.mp4"
   ]
  },
  {
   "cell_type": "code",
   "execution_count": 5,
   "id": "91b84730",
   "metadata": {},
   "outputs": [],
   "source": [
    "# #creat resolution\n",
    "# rs=p.size()\n",
    "# # filename in which we store recording\n",
    "# fn=input(\"please enter any file name and path:\")\n",
    "# # fix the frame rate \n",
    "# fps=60.0\n",
    "# fourcc=c.VideoWriter_fourcc(*'XVID') #fourcc is a codek that will help to create your videos\n",
    "# output=c.VideoWriter(fn,fourcc,fps,rs)\n",
    "# # create recording module\n",
    "# c.namedWindow('Live_Recording',c.WINDOW_NORMAL)\n",
    "# c.resizeWindow('Live_Recording',(600,400))\n",
    "# while True:\n",
    "#     img=p.screenshot()\n",
    "#     f=np.array(img)\n",
    "#     f=c.cvtColor(f,c.COLOR_BGR2RGB)\n",
    "#     output.write(f)\n",
    "#     c.imshow(\"Live_Recording\",f)\n",
    "#     if c.waitKey(1)==ord(\"q\"):\n",
    "#         break\n",
    "        \n",
    "        \n",
    "# output.release()\n",
    "# c.destroyAllWindows()\n",
    "\n",
    "# #C:\\\\Users\\\\subha\\\\OneDrive\\\\Desktop\\\\video record.mp4\n"
   ]
  },
  {
   "cell_type": "code",
   "execution_count": null,
   "id": "f6c4bbf3",
   "metadata": {},
   "outputs": [],
   "source": [
    "img=c.imread(\"C:\\\\Users\\\\rajen\\\\OneDrive\\\\Desktop\\\\New folder\\\\a.jpeg\")\n"
   ]
  }
 ],
 "metadata": {
  "kernelspec": {
   "display_name": "Python 3 (ipykernel)",
   "language": "python",
   "name": "python3"
  },
  "language_info": {
   "codemirror_mode": {
    "name": "ipython",
    "version": 3
   },
   "file_extension": ".py",
   "mimetype": "text/x-python",
   "name": "python",
   "nbconvert_exporter": "python",
   "pygments_lexer": "ipython3",
   "version": "3.10.9"
  }
 },
 "nbformat": 4,
 "nbformat_minor": 5
}
