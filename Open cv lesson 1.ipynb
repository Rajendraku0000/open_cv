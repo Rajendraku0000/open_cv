{
 "cells": [
  {
   "cell_type": "code",
   "execution_count": 1,
   "id": "a6e463b6",
   "metadata": {},
   "outputs": [],
   "source": [
    "import cv2"
   ]
  },
  {
   "cell_type": "code",
   "execution_count": 14,
   "id": "906195c0",
   "metadata": {},
   "outputs": [],
   "source": [
    "# img=cv2.imread(\"C:\\\\Users\\\\rajen\\\\OneDrive\\\\Desktop\\\\download.jpeg\",-1)\n",
    "# print(img.shape)\n",
    "# # img=cv2.resize(img,(560,700))\n",
    "# print(img.shape)\n",
    "# cv2.imshow(\"new image\",img)\n",
    "\n",
    "# cv2.waitKey(10000)\n",
    "# cv2.destroyAllWindows()\n"
   ]
  },
  {
   "cell_type": "code",
   "execution_count": 20,
   "id": "8be63acb",
   "metadata": {},
   "outputs": [
    {
     "name": "stdout",
     "output_type": "stream",
     "text": [
      "enter inputC:\\\\Users\\\\rajen\\\\OneDrive\\\\Desktop\\\\download.jpeg\n"
     ]
    }
   ],
   "source": [
    "path=input(\"enter input\")\n",
    "\n",
    "img1=cv2.imread(path,1)\n",
    "img1=cv2.resize(img1,(500,500))\n",
    "img1=cv2.flip(img1,0)\n",
    "cv2.imshow(\"this is my image\",img1)\n",
    "\n",
    "cv2.waitKey(10000)\n",
    "cv2.destroyAllWindows()"
   ]
  },
  {
   "cell_type": "code",
   "execution_count": null,
   "id": "c62b962b",
   "metadata": {},
   "outputs": [],
   "source": []
  }
 ],
 "metadata": {
  "kernelspec": {
   "display_name": "Python 3 (ipykernel)",
   "language": "python",
   "name": "python3"
  },
  "language_info": {
   "codemirror_mode": {
    "name": "ipython",
    "version": 3
   },
   "file_extension": ".py",
   "mimetype": "text/x-python",
   "name": "python",
   "nbconvert_exporter": "python",
   "pygments_lexer": "ipython3",
   "version": "3.10.9"
  }
 },
 "nbformat": 4,
 "nbformat_minor": 5
}
